{
 "cells": [
  {
   "cell_type": "code",
   "execution_count": 5,
   "id": "bc1457c9",
   "metadata": {},
   "outputs": [
    {
     "name": "stdout",
     "output_type": "stream",
     "text": [
      "[Animation] added epoch 00000\n",
      "[Animation] added epoch 00500\n",
      "[Animation] added epoch 01000\n",
      "[Animation] added epoch 01500\n",
      "[Animation] added epoch 02000\n",
      "[Animation] added epoch 02500\n",
      "[Animation] added epoch 03000\n",
      "[Animation] added epoch 03500\n",
      "[Animation] added epoch 04000\n",
      "[Animation] added epoch 04500\n",
      "[Animation] added epoch 05000\n",
      "[Animation] added epoch 05500\n",
      "[Animation] added epoch 06000\n",
      "[Animation] added epoch 06500\n",
      "[Animation] added epoch 07000\n",
      "[Animation] added epoch 07500\n",
      "[Animation] added epoch 08000\n",
      "[Animation] added epoch 08500\n",
      "[Animation] added epoch 09000\n",
      "[Animation] added epoch 09500\n",
      "[Animation] added epoch 10000\n",
      "[Animation] added epoch 10500\n",
      "[Animation] added epoch 11000\n",
      "[Animation] added epoch 11500\n",
      "[Animation] added epoch 12000\n",
      "[Animation] added epoch 12500\n",
      "[Animation] added epoch 13000\n",
      "[Animation] added epoch 13500\n",
      "[Animation] added epoch 14000\n",
      "[Animation] added epoch 14500\n",
      "[Animation] added epoch 15000\n",
      "[Animation] added epoch 15500\n",
      "[Animation] added epoch 16000\n",
      "[Animation] added epoch 16500\n",
      "[Animation] added epoch 17000\n"
     ]
    }
   ],
   "source": [
    "# saves images\n",
    "import imageio\n",
    "from PIL import Image, ImageFont, ImageDraw\n",
    "import numpy as np\n",
    "\n",
    "images = []\n",
    "n_epochs = 20000\n",
    "top_epoch = 17400\n",
    "filenames = [str(i).rjust(len(str(n_epochs-1)), '0') for i in range(0,top_epoch+1, 50)]\n",
    "# times_new_roman = ImageFont.truetype(\"times.ttf\", 20)\n",
    "\n",
    "for i, filename in enumerate(filenames):\n",
    "    image = imageio.imread('2d_linear_tanh_outputs/generator_epoch_' + filename + '.png')\n",
    "    # pil_image = Image.fromarray(image)\n",
    "    # edit = ImageDraw.Draw(pil_image)\n",
    "    # edit.text((15,15), f\"Epoch {filename}/{top_epoch}\", fill=(0,0,0,255), font=times_new_roman)\n",
    "    # image = np.array(pil_image)\n",
    "    images.append(image)\n",
    "    if i % 10 == 0: print(f'[Animation] added epoch {filename}')\n",
    "imageio.mimsave(f'anim/epoch_{top_epoch}_labelled.gif', images, duration = 0.1)\n"
   ]
  },
  {
   "cell_type": "code",
   "execution_count": null,
   "id": "34598859",
   "metadata": {},
   "outputs": [],
   "source": []
  }
 ],
 "metadata": {
  "kernelspec": {
   "display_name": "Python 3 (ipykernel)",
   "language": "python",
   "name": "python3"
  },
  "language_info": {
   "codemirror_mode": {
    "name": "ipython",
    "version": 3
   },
   "file_extension": ".py",
   "mimetype": "text/x-python",
   "name": "python",
   "nbconvert_exporter": "python",
   "pygments_lexer": "ipython3",
   "version": "3.9.6"
  }
 },
 "nbformat": 4,
 "nbformat_minor": 5
}
