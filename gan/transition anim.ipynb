{
 "cells": [
  {
   "cell_type": "code",
   "execution_count": null,
   "id": "d5361d0f",
   "metadata": {},
   "outputs": [],
   "source": [
    "from src.dcgan_models import *\n",
    "from src.dcgan_functions import *\n",
    "\n",
    "import imageio\n",
    "\n",
    "generator = make_generator()\n",
    "generator.load_weights(\"model/saved_weights/generator_60.hdf5\")\n",
    "\n",
    "n_dimensions = 100\n",
    "n_samples = 25\n",
    "\n",
    "X_points = random_latent_points(n_dimensions, n_samples)\n",
    "X_Samples, _ = generate_fake_samples(generator, X_points, n_dimensions, n_samples)\n",
    "\n",
    "plot_samples(X_Samples, n_samples)\n",
    "plt.show()\n",
    "\n",
    "def make_anim(A_index, B_index, steps, scale=1):\n",
    "    A = X_points[A_index]\n",
    "    B = X_points[B_index]\n",
    "    transition_points = latent_transition(A, B, n_dim=n_dimensions, n_steps=steps)\n",
    "\n",
    "    X_output, _ = generate_fake_samples(generator, transition_points, n_dimensions, steps)\n",
    "\n",
    "    outputs = float_to_rgb(X_output)\n",
    "    scaled = outputs.repeat(scale, axis=1).repeat(scale, axis=2)\n",
    "\n",
    "    images = [output for output in scaled]\n",
    "\n",
    "\n",
    "    imageio.mimsave(f'anim_{A_index}_{B_index}.gif', images, duration=0.05)\n",
    "    print(\"done\")"
   ]
  }
 ],
 "metadata": {
  "kernelspec": {
   "display_name": "Python 3 (ipykernel)",
   "language": "python",
   "name": "python3"
  },
  "language_info": {
   "codemirror_mode": {
    "name": "ipython",
    "version": 3
   },
   "file_extension": ".py",
   "mimetype": "text/x-python",
   "name": "python",
   "nbconvert_exporter": "python",
   "pygments_lexer": "ipython3",
   "version": "3.9.7"
  }
 },
 "nbformat": 4,
 "nbformat_minor": 5
}
